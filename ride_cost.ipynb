{
 "cells": [
  {
   "cell_type": "code",
   "execution_count": 1,
   "metadata": {},
   "outputs": [],
   "source": [
    "import numpy as np\n",
    "import pandas as pd\n",
    "import matplotlib.pyplot as plt"
   ]
  },
  {
   "cell_type": "code",
   "execution_count": 2,
   "metadata": {},
   "outputs": [],
   "source": [
    "data=pd.read_csv('cab_rides100.csv')"
   ]
  },
  {
   "cell_type": "code",
   "execution_count": 3,
   "metadata": {},
   "outputs": [
    {
     "name": "stdout",
     "output_type": "stream",
     "text": [
      "<class 'pandas.core.frame.DataFrame'>\n",
      "RangeIndex: 100 entries, 0 to 99\n",
      "Data columns (total 10 columns):\n",
      " #   Column            Non-Null Count  Dtype  \n",
      "---  ------            --------------  -----  \n",
      " 0   distance          100 non-null    float64\n",
      " 1   cab_type          100 non-null    object \n",
      " 2   name              100 non-null    object \n",
      " 3   time_stamp        100 non-null    float64\n",
      " 4   destination       100 non-null    object \n",
      " 5   source            100 non-null    object \n",
      " 6   price             89 non-null     float64\n",
      " 7   surge_multiplier  100 non-null    int64  \n",
      " 8   id                100 non-null    object \n",
      " 9   product_id        100 non-null    object \n",
      "dtypes: float64(3), int64(1), object(6)\n",
      "memory usage: 7.9+ KB\n"
     ]
    }
   ],
   "source": [
    "data.info()"
   ]
  },
  {
   "cell_type": "code",
   "execution_count": 4,
   "metadata": {},
   "outputs": [
    {
     "data": {
      "text/html": [
       "<div>\n",
       "<style scoped>\n",
       "    .dataframe tbody tr th:only-of-type {\n",
       "        vertical-align: middle;\n",
       "    }\n",
       "\n",
       "    .dataframe tbody tr th {\n",
       "        vertical-align: top;\n",
       "    }\n",
       "\n",
       "    .dataframe thead th {\n",
       "        text-align: right;\n",
       "    }\n",
       "</style>\n",
       "<table border=\"1\" class=\"dataframe\">\n",
       "  <thead>\n",
       "    <tr style=\"text-align: right;\">\n",
       "      <th></th>\n",
       "      <th>distance</th>\n",
       "      <th>cab_type</th>\n",
       "      <th>name</th>\n",
       "      <th>time_stamp</th>\n",
       "      <th>destination</th>\n",
       "      <th>source</th>\n",
       "      <th>price</th>\n",
       "      <th>surge_multiplier</th>\n",
       "      <th>id</th>\n",
       "      <th>product_id</th>\n",
       "    </tr>\n",
       "  </thead>\n",
       "  <tbody>\n",
       "    <tr>\n",
       "      <th>0</th>\n",
       "      <td>2.49</td>\n",
       "      <td>Uber</td>\n",
       "      <td>Taxi</td>\n",
       "      <td>1.543440e+12</td>\n",
       "      <td>Back Bay</td>\n",
       "      <td>South Station</td>\n",
       "      <td>NaN</td>\n",
       "      <td>1</td>\n",
       "      <td>42dd31b8-d488-4de6-8dd1-544d6f943149</td>\n",
       "      <td>8cf7e821-f0d3-49c6-8eba-e679c0ebcf6a</td>\n",
       "    </tr>\n",
       "    <tr>\n",
       "      <th>1</th>\n",
       "      <td>2.49</td>\n",
       "      <td>Uber</td>\n",
       "      <td>Black SUV</td>\n",
       "      <td>1.543320e+12</td>\n",
       "      <td>Back Bay</td>\n",
       "      <td>South Station</td>\n",
       "      <td>32.5</td>\n",
       "      <td>1</td>\n",
       "      <td>c1463da2-43e9-4e83-a52f-eb4fbe9d85e6</td>\n",
       "      <td>6d318bcc-22a3-4af6-bddd-b409bfce1546</td>\n",
       "    </tr>\n",
       "    <tr>\n",
       "      <th>2</th>\n",
       "      <td>2.49</td>\n",
       "      <td>Uber</td>\n",
       "      <td>UberPool</td>\n",
       "      <td>1.543860e+12</td>\n",
       "      <td>Back Bay</td>\n",
       "      <td>South Station</td>\n",
       "      <td>11.0</td>\n",
       "      <td>1</td>\n",
       "      <td>e5face72-4e1e-499e-89db-6a136e11f7f5</td>\n",
       "      <td>997acbb5-e102-41e1-b155-9df7de0a73f2</td>\n",
       "    </tr>\n",
       "    <tr>\n",
       "      <th>3</th>\n",
       "      <td>3.07</td>\n",
       "      <td>Uber</td>\n",
       "      <td>Black</td>\n",
       "      <td>1.543660e+12</td>\n",
       "      <td>North Station</td>\n",
       "      <td>Fenway</td>\n",
       "      <td>27.0</td>\n",
       "      <td>1</td>\n",
       "      <td>08a28a48-eec5-43f8-b81d-bc2f57fc7f9a</td>\n",
       "      <td>6c84fd89-3f11-4782-9b50-97c468b19529</td>\n",
       "    </tr>\n",
       "    <tr>\n",
       "      <th>4</th>\n",
       "      <td>3.07</td>\n",
       "      <td>Uber</td>\n",
       "      <td>UberX</td>\n",
       "      <td>1.543460e+12</td>\n",
       "      <td>North Station</td>\n",
       "      <td>Fenway</td>\n",
       "      <td>12.0</td>\n",
       "      <td>1</td>\n",
       "      <td>1f384d44-39fa-4537-b6a9-e97c0420fc48</td>\n",
       "      <td>55c66225-fbe7-4fd5-9072-eab1ece5e23e</td>\n",
       "    </tr>\n",
       "    <tr>\n",
       "      <th>...</th>\n",
       "      <td>...</td>\n",
       "      <td>...</td>\n",
       "      <td>...</td>\n",
       "      <td>...</td>\n",
       "      <td>...</td>\n",
       "      <td>...</td>\n",
       "      <td>...</td>\n",
       "      <td>...</td>\n",
       "      <td>...</td>\n",
       "      <td>...</td>\n",
       "    </tr>\n",
       "    <tr>\n",
       "      <th>95</th>\n",
       "      <td>1.81</td>\n",
       "      <td>Uber</td>\n",
       "      <td>UberXL</td>\n",
       "      <td>1.543440e+12</td>\n",
       "      <td>Theatre District</td>\n",
       "      <td>North End</td>\n",
       "      <td>15.0</td>\n",
       "      <td>1</td>\n",
       "      <td>5ad26487-dbb2-472c-a141-30d59ddb9b72</td>\n",
       "      <td>6f72dfc5-27f1-42e8-84db-ccc7a75f6969</td>\n",
       "    </tr>\n",
       "    <tr>\n",
       "      <th>96</th>\n",
       "      <td>1.81</td>\n",
       "      <td>Uber</td>\n",
       "      <td>Taxi</td>\n",
       "      <td>1.543460e+12</td>\n",
       "      <td>Theatre District</td>\n",
       "      <td>North End</td>\n",
       "      <td>NaN</td>\n",
       "      <td>1</td>\n",
       "      <td>6c2dec25-7912-4ca1-a0fa-99c148cef8a3</td>\n",
       "      <td>8cf7e821-f0d3-49c6-8eba-e679c0ebcf6a</td>\n",
       "    </tr>\n",
       "    <tr>\n",
       "      <th>97</th>\n",
       "      <td>1.30</td>\n",
       "      <td>Uber</td>\n",
       "      <td>Black SUV</td>\n",
       "      <td>1.543880e+12</td>\n",
       "      <td>Theatre District</td>\n",
       "      <td>South Station</td>\n",
       "      <td>27.0</td>\n",
       "      <td>1</td>\n",
       "      <td>7eae79ec-6a4a-4a36-9eb4-1e95860493d1</td>\n",
       "      <td>6d318bcc-22a3-4af6-bddd-b409bfce1546</td>\n",
       "    </tr>\n",
       "    <tr>\n",
       "      <th>98</th>\n",
       "      <td>1.81</td>\n",
       "      <td>Uber</td>\n",
       "      <td>Black</td>\n",
       "      <td>1.543710e+12</td>\n",
       "      <td>Theatre District</td>\n",
       "      <td>North End</td>\n",
       "      <td>19.5</td>\n",
       "      <td>1</td>\n",
       "      <td>8b37f02d-9406-4980-b1bd-5a17ecf08985</td>\n",
       "      <td>6c84fd89-3f11-4782-9b50-97c468b19529</td>\n",
       "    </tr>\n",
       "    <tr>\n",
       "      <th>99</th>\n",
       "      <td>1.30</td>\n",
       "      <td>Uber</td>\n",
       "      <td>Black</td>\n",
       "      <td>1.543420e+12</td>\n",
       "      <td>Theatre District</td>\n",
       "      <td>South Station</td>\n",
       "      <td>17.5</td>\n",
       "      <td>1</td>\n",
       "      <td>90503e0c-7f58-46ba-8353-67fe00fe4c2e</td>\n",
       "      <td>6c84fd89-3f11-4782-9b50-97c468b19529</td>\n",
       "    </tr>\n",
       "  </tbody>\n",
       "</table>\n",
       "<p>100 rows × 10 columns</p>\n",
       "</div>"
      ],
      "text/plain": [
       "    distance cab_type       name    time_stamp       destination  \\\n",
       "0       2.49     Uber       Taxi  1.543440e+12          Back Bay   \n",
       "1       2.49     Uber  Black SUV  1.543320e+12          Back Bay   \n",
       "2       2.49     Uber   UberPool  1.543860e+12          Back Bay   \n",
       "3       3.07     Uber      Black  1.543660e+12     North Station   \n",
       "4       3.07     Uber      UberX  1.543460e+12     North Station   \n",
       "..       ...      ...        ...           ...               ...   \n",
       "95      1.81     Uber     UberXL  1.543440e+12  Theatre District   \n",
       "96      1.81     Uber       Taxi  1.543460e+12  Theatre District   \n",
       "97      1.30     Uber  Black SUV  1.543880e+12  Theatre District   \n",
       "98      1.81     Uber      Black  1.543710e+12  Theatre District   \n",
       "99      1.30     Uber      Black  1.543420e+12  Theatre District   \n",
       "\n",
       "           source  price  surge_multiplier  \\\n",
       "0   South Station    NaN                 1   \n",
       "1   South Station   32.5                 1   \n",
       "2   South Station   11.0                 1   \n",
       "3          Fenway   27.0                 1   \n",
       "4          Fenway   12.0                 1   \n",
       "..            ...    ...               ...   \n",
       "95      North End   15.0                 1   \n",
       "96      North End    NaN                 1   \n",
       "97  South Station   27.0                 1   \n",
       "98      North End   19.5                 1   \n",
       "99  South Station   17.5                 1   \n",
       "\n",
       "                                      id                            product_id  \n",
       "0   42dd31b8-d488-4de6-8dd1-544d6f943149  8cf7e821-f0d3-49c6-8eba-e679c0ebcf6a  \n",
       "1   c1463da2-43e9-4e83-a52f-eb4fbe9d85e6  6d318bcc-22a3-4af6-bddd-b409bfce1546  \n",
       "2   e5face72-4e1e-499e-89db-6a136e11f7f5  997acbb5-e102-41e1-b155-9df7de0a73f2  \n",
       "3   08a28a48-eec5-43f8-b81d-bc2f57fc7f9a  6c84fd89-3f11-4782-9b50-97c468b19529  \n",
       "4   1f384d44-39fa-4537-b6a9-e97c0420fc48  55c66225-fbe7-4fd5-9072-eab1ece5e23e  \n",
       "..                                   ...                                   ...  \n",
       "95  5ad26487-dbb2-472c-a141-30d59ddb9b72  6f72dfc5-27f1-42e8-84db-ccc7a75f6969  \n",
       "96  6c2dec25-7912-4ca1-a0fa-99c148cef8a3  8cf7e821-f0d3-49c6-8eba-e679c0ebcf6a  \n",
       "97  7eae79ec-6a4a-4a36-9eb4-1e95860493d1  6d318bcc-22a3-4af6-bddd-b409bfce1546  \n",
       "98  8b37f02d-9406-4980-b1bd-5a17ecf08985  6c84fd89-3f11-4782-9b50-97c468b19529  \n",
       "99  90503e0c-7f58-46ba-8353-67fe00fe4c2e  6c84fd89-3f11-4782-9b50-97c468b19529  \n",
       "\n",
       "[100 rows x 10 columns]"
      ]
     },
     "execution_count": 4,
     "metadata": {},
     "output_type": "execute_result"
    }
   ],
   "source": [
    "data"
   ]
  },
  {
   "cell_type": "code",
   "execution_count": 5,
   "metadata": {},
   "outputs": [],
   "source": [
    "data['name']=data['name'].astype('string')\n",
    "data['source']=data['source'].astype('string')\n",
    "data['destination']=data['destination'].astype('string')"
   ]
  },
  {
   "cell_type": "code",
   "execution_count": 6,
   "metadata": {},
   "outputs": [
    {
     "data": {
      "text/plain": [
       "Uber    66\n",
       "Lyft    34\n",
       "Name: cab_type, dtype: int64"
      ]
     },
     "execution_count": 6,
     "metadata": {},
     "output_type": "execute_result"
    }
   ],
   "source": [
    "data['cab_type'].value_counts()\n",
    "#data['name'].value_counts()"
   ]
  },
  {
   "cell_type": "code",
   "execution_count": 7,
   "metadata": {},
   "outputs": [],
   "source": [
    "data['price'].fillna(data['price'].mean(),inplace=True)"
   ]
  },
  {
   "cell_type": "code",
   "execution_count": 8,
   "metadata": {},
   "outputs": [
    {
     "data": {
      "text/plain": [
       "distance            False\n",
       "cab_type            False\n",
       "name                False\n",
       "time_stamp          False\n",
       "destination         False\n",
       "source              False\n",
       "price               False\n",
       "surge_multiplier    False\n",
       "id                  False\n",
       "product_id          False\n",
       "dtype: bool"
      ]
     },
     "execution_count": 8,
     "metadata": {},
     "output_type": "execute_result"
    }
   ],
   "source": [
    "data.isnull().any()"
   ]
  },
  {
   "cell_type": "code",
   "execution_count": 9,
   "metadata": {},
   "outputs": [],
   "source": [
    "data.drop(['time_stamp','product_id','id'],inplace=True,axis=1)"
   ]
  },
  {
   "cell_type": "code",
   "execution_count": 10,
   "metadata": {},
   "outputs": [
    {
     "name": "stdout",
     "output_type": "stream",
     "text": [
      "<class 'pandas.core.frame.DataFrame'>\n",
      "RangeIndex: 100 entries, 0 to 99\n",
      "Data columns (total 7 columns):\n",
      " #   Column            Non-Null Count  Dtype  \n",
      "---  ------            --------------  -----  \n",
      " 0   distance          100 non-null    float64\n",
      " 1   cab_type          100 non-null    object \n",
      " 2   name              100 non-null    string \n",
      " 3   destination       100 non-null    string \n",
      " 4   source            100 non-null    string \n",
      " 5   price             100 non-null    float64\n",
      " 6   surge_multiplier  100 non-null    int64  \n",
      "dtypes: float64(2), int64(1), object(1), string(3)\n",
      "memory usage: 5.6+ KB\n"
     ]
    }
   ],
   "source": [
    "data.info()"
   ]
  },
  {
   "cell_type": "code",
   "execution_count": 11,
   "metadata": {},
   "outputs": [
    {
     "data": {
      "text/plain": [
       "array([[2.49, 'Uber', 'Taxi', 'Back Bay', 'South Station'],\n",
       "       [2.49, 'Uber', 'Black SUV', 'Back Bay', 'South Station'],\n",
       "       [2.49, 'Uber', 'UberPool', 'Back Bay', 'South Station'],\n",
       "       [3.07, 'Uber', 'Black', 'North Station', 'Fenway'],\n",
       "       [3.07, 'Uber', 'UberX', 'North Station', 'Fenway'],\n",
       "       [3.07, 'Uber', 'UberXL', 'North Station', 'Fenway'],\n",
       "       [3.07, 'Uber', 'Taxi', 'North Station', 'Fenway'],\n",
       "       [3.07, 'Uber', 'WAV', 'North Station', 'Fenway'],\n",
       "       [3.07, 'Uber', 'UberPool', 'North Station', 'Fenway'],\n",
       "       [3.07, 'Uber', 'Black SUV', 'North Station', 'Fenway'],\n",
       "       [1.57, 'Uber', 'WAV', 'North End', 'Theatre District'],\n",
       "       [1.57, 'Uber', 'Taxi', 'North End', 'Theatre District'],\n",
       "       [1.57, 'Uber', 'UberXL', 'North End', 'Theatre District'],\n",
       "       [1.57, 'Uber', 'UberPool', 'North End', 'Theatre District'],\n",
       "       [1.57, 'Uber', 'Black SUV', 'North End', 'Theatre District'],\n",
       "       [1.57, 'Uber', 'Black', 'North End', 'Theatre District'],\n",
       "       [1.57, 'Uber', 'UberX', 'North End', 'Theatre District'],\n",
       "       [3.2, 'Uber', 'UberPool', 'Northeastern University', 'West End'],\n",
       "       [3.2, 'Uber', 'Black', 'Northeastern University', 'West End'],\n",
       "       [3.2, 'Uber', 'WAV', 'Northeastern University', 'West End'],\n",
       "       [3.2, 'Uber', 'Black SUV', 'Northeastern University', 'West End'],\n",
       "       [3.2, 'Uber', 'UberXL', 'Northeastern University', 'West End'],\n",
       "       [3.2, 'Uber', 'UberX', 'Northeastern University', 'West End'],\n",
       "       [3.2, 'Uber', 'Taxi', 'Northeastern University', 'West End'],\n",
       "       [3.61, 'Uber', 'Black', 'Back Bay', 'North End'],\n",
       "       [3.61, 'Uber', 'UberX', 'Back Bay', 'North End'],\n",
       "       [3.61, 'Uber', 'UberPool', 'Back Bay', 'North End'],\n",
       "       [3.61, 'Uber', 'UberXL', 'Back Bay', 'North End'],\n",
       "       [3.61, 'Uber', 'WAV', 'Back Bay', 'North End'],\n",
       "       [3.61, 'Uber', 'Black SUV', 'Back Bay', 'North End'],\n",
       "       [3.61, 'Uber', 'Taxi', 'Back Bay', 'North End'],\n",
       "       [3.05, 'Uber', 'Black', 'Fenway', 'North Station'],\n",
       "       [3.05, 'Uber', 'Black SUV', 'Fenway', 'North Station'],\n",
       "       [3.05, 'Uber', 'UberX', 'Fenway', 'North Station'],\n",
       "       [3.05, 'Uber', 'WAV', 'Fenway', 'North Station'],\n",
       "       [3.05, 'Uber', 'Taxi', 'Fenway', 'North Station'],\n",
       "       [3.05, 'Uber', 'UberXL', 'Fenway', 'North Station'],\n",
       "       [3.05, 'Uber', 'UberPool', 'Fenway', 'North Station'],\n",
       "       [1.75, 'Lyft', 'Lux Black', 'Haymarket Square',\n",
       "        'Theatre District'],\n",
       "       [1.75, 'Lyft', 'Shared', 'Haymarket Square', 'Theatre District'],\n",
       "       [1.75, 'Lyft', 'Lyft XL', 'Haymarket Square', 'Theatre District'],\n",
       "       [1.75, 'Lyft', 'Lux', 'Haymarket Square', 'Theatre District'],\n",
       "       [1.75, 'Lyft', 'Lux Black XL', 'Haymarket Square',\n",
       "        'Theatre District'],\n",
       "       [1.75, 'Lyft', 'Lyft', 'Haymarket Square', 'Theatre District'],\n",
       "       [2.36, 'Lyft', 'Lyft', 'Fenway', 'Beacon Hill'],\n",
       "       [2.36, 'Lyft', 'Lux Black XL', 'Fenway', 'Beacon Hill'],\n",
       "       [2.36, 'Lyft', 'Lux', 'Fenway', 'Beacon Hill'],\n",
       "       [2.36, 'Lyft', 'Lyft XL', 'Fenway', 'Beacon Hill'],\n",
       "       [2.36, 'Lyft', 'Lux Black', 'Fenway', 'Beacon Hill'],\n",
       "       [2.36, 'Lyft', 'Shared', 'Fenway', 'Beacon Hill'],\n",
       "       [2.32, 'Uber', 'UberXL', 'North End', 'Back Bay'],\n",
       "       [2.32, 'Uber', 'Black', 'North End', 'Back Bay'],\n",
       "       [2.32, 'Uber', 'WAV', 'North End', 'Back Bay'],\n",
       "       [2.32, 'Uber', 'UberX', 'North End', 'Back Bay'],\n",
       "       [2.32, 'Uber', 'UberPool', 'North End', 'Back Bay'],\n",
       "       [2.32, 'Uber', 'Taxi', 'North End', 'Back Bay'],\n",
       "       [1.02, 'Lyft', 'Lux', 'North End', 'North Station'],\n",
       "       [1.02, 'Lyft', 'Lux Black XL', 'North End', 'North Station'],\n",
       "       [1.02, 'Lyft', 'Lux Black', 'North End', 'North Station'],\n",
       "       [1.02, 'Lyft', 'Lyft XL', 'North End', 'North Station'],\n",
       "       [1.17, 'Lyft', 'Lux Black', 'Haymarket Square',\n",
       "        'Financial District'],\n",
       "       [1.17, 'Lyft', 'Lux', 'Haymarket Square', 'Financial District'],\n",
       "       [1.17, 'Lyft', 'Shared', 'Haymarket Square', 'Financial District'],\n",
       "       [1.17, 'Lyft', 'Lux Black XL', 'Haymarket Square',\n",
       "        'Financial District'],\n",
       "       [1.17, 'Lyft', 'Lyft', 'Haymarket Square', 'Financial District'],\n",
       "       [1.17, 'Lyft', 'Lyft XL', 'Haymarket Square',\n",
       "        'Financial District'],\n",
       "       [4.43, 'Uber', 'UberPool', 'Financial District', 'Fenway'],\n",
       "       [4.43, 'Uber', 'Taxi', 'Financial District', 'Fenway'],\n",
       "       [4.43, 'Uber', 'Black SUV', 'Financial District', 'Fenway'],\n",
       "       [4.43, 'Uber', 'UberXL', 'Financial District', 'Fenway'],\n",
       "       [4.43, 'Uber', 'UberX', 'Financial District', 'Fenway'],\n",
       "       [4.43, 'Uber', 'WAV', 'Financial District', 'Fenway'],\n",
       "       [4.43, 'Uber', 'Black', 'Financial District', 'Fenway'],\n",
       "       [1.4, 'Lyft', 'Lyft', 'Fenway', 'Back Bay'],\n",
       "       [1.4, 'Lyft', 'Shared', 'Fenway', 'Back Bay'],\n",
       "       [1.4, 'Lyft', 'Lux', 'Fenway', 'Back Bay'],\n",
       "       [1.4, 'Lyft', 'Lux Black', 'Fenway', 'Back Bay'],\n",
       "       [1.4, 'Lyft', 'Lyft XL', 'Fenway', 'Back Bay'],\n",
       "       [1.4, 'Lyft', 'Lux Black XL', 'Fenway', 'Back Bay'],\n",
       "       [1.01, 'Lyft', 'Lux Black', 'North Station', 'North End'],\n",
       "       [1.01, 'Lyft', 'Lyft', 'North Station', 'North End'],\n",
       "       [1.01, 'Lyft', 'Shared', 'North Station', 'North End'],\n",
       "       [1.01, 'Lyft', 'Lux', 'North Station', 'North End'],\n",
       "       [1.01, 'Lyft', 'Lux Black XL', 'North Station', 'North End'],\n",
       "       [1.01, 'Lyft', 'Lyft XL', 'North Station', 'North End'],\n",
       "       [2.84, 'Uber', 'UberX', 'Fenway', 'West End'],\n",
       "       [2.84, 'Uber', 'Taxi', 'Fenway', 'West End'],\n",
       "       [2.84, 'Uber', 'Black SUV', 'Fenway', 'West End'],\n",
       "       [2.84, 'Uber', 'Black', 'Fenway', 'West End'],\n",
       "       [2.84, 'Uber', 'WAV', 'Fenway', 'West End'],\n",
       "       [2.84, 'Uber', 'UberPool', 'Fenway', 'West End'],\n",
       "       [2.84, 'Uber', 'UberXL', 'Fenway', 'West End'],\n",
       "       [1.3, 'Uber', 'Taxi', 'Theatre District', 'South Station'],\n",
       "       [1.81, 'Uber', 'Black SUV', 'Theatre District', 'North End'],\n",
       "       [1.3, 'Uber', 'WAV', 'Theatre District', 'South Station'],\n",
       "       [1.81, 'Uber', 'UberXL', 'Theatre District', 'North End'],\n",
       "       [1.81, 'Uber', 'Taxi', 'Theatre District', 'North End'],\n",
       "       [1.3, 'Uber', 'Black SUV', 'Theatre District', 'South Station'],\n",
       "       [1.81, 'Uber', 'Black', 'Theatre District', 'North End'],\n",
       "       [1.3, 'Uber', 'Black', 'Theatre District', 'South Station']],\n",
       "      dtype=object)"
      ]
     },
     "execution_count": 11,
     "metadata": {},
     "output_type": "execute_result"
    }
   ],
   "source": [
    "x=data.iloc[:,0:5].values\n",
    "x"
   ]
  },
  {
   "cell_type": "code",
   "execution_count": 12,
   "metadata": {},
   "outputs": [
    {
     "data": {
      "text/plain": [
       "array([[16.73595506],\n",
       "       [32.5       ],\n",
       "       [11.        ],\n",
       "       [27.        ],\n",
       "       [12.        ],\n",
       "       [18.5       ],\n",
       "       [16.73595506],\n",
       "       [12.        ],\n",
       "       [ 8.5       ],\n",
       "       [35.        ],\n",
       "       [ 8.        ],\n",
       "       [16.73595506],\n",
       "       [13.        ],\n",
       "       [ 8.        ],\n",
       "       [27.        ],\n",
       "       [17.        ],\n",
       "       [ 8.        ],\n",
       "       [13.5       ],\n",
       "       [23.5       ],\n",
       "       [14.        ],\n",
       "       [34.        ],\n",
       "       [26.5       ],\n",
       "       [14.        ],\n",
       "       [16.73595506],\n",
       "       [26.5       ],\n",
       "       [12.        ],\n",
       "       [11.        ],\n",
       "       [19.5       ],\n",
       "       [12.        ],\n",
       "       [38.5       ],\n",
       "       [16.73595506],\n",
       "       [23.        ],\n",
       "       [30.5       ],\n",
       "       [10.5       ],\n",
       "       [10.5       ],\n",
       "       [16.73595506],\n",
       "       [17.5       ],\n",
       "       [10.        ],\n",
       "       [22.5       ],\n",
       "       [ 7.        ],\n",
       "       [13.5       ],\n",
       "       [16.5       ],\n",
       "       [27.5       ],\n",
       "       [ 9.        ],\n",
       "       [ 9.        ],\n",
       "       [30.        ],\n",
       "       [16.5       ],\n",
       "       [13.5       ],\n",
       "       [22.5       ],\n",
       "       [ 7.        ],\n",
       "       [14.        ],\n",
       "       [20.5       ],\n",
       "       [ 9.5       ],\n",
       "       [ 9.5       ],\n",
       "       [ 8.5       ],\n",
       "       [16.73595506],\n",
       "       [13.5       ],\n",
       "       [26.        ],\n",
       "       [16.5       ],\n",
       "       [11.        ],\n",
       "       [16.5       ],\n",
       "       [13.5       ],\n",
       "       [ 5.        ],\n",
       "       [27.5       ],\n",
       "       [ 7.        ],\n",
       "       [10.5       ],\n",
       "       [11.        ],\n",
       "       [16.73595506],\n",
       "       [36.5       ],\n",
       "       [20.5       ],\n",
       "       [12.5       ],\n",
       "       [12.5       ],\n",
       "       [27.        ],\n",
       "       [ 7.        ],\n",
       "       [ 3.        ],\n",
       "       [13.5       ],\n",
       "       [16.5       ],\n",
       "       [10.5       ],\n",
       "       [27.5       ],\n",
       "       [16.5       ],\n",
       "       [ 7.        ],\n",
       "       [ 5.        ],\n",
       "       [13.5       ],\n",
       "       [27.5       ],\n",
       "       [10.5       ],\n",
       "       [11.        ],\n",
       "       [16.73595506],\n",
       "       [33.5       ],\n",
       "       [23.        ],\n",
       "       [11.        ],\n",
       "       [ 9.5       ],\n",
       "       [17.5       ],\n",
       "       [16.73595506],\n",
       "       [29.5       ],\n",
       "       [ 9.5       ],\n",
       "       [15.        ],\n",
       "       [16.73595506],\n",
       "       [27.        ],\n",
       "       [19.5       ],\n",
       "       [17.5       ]])"
      ]
     },
     "execution_count": 12,
     "metadata": {},
     "output_type": "execute_result"
    }
   ],
   "source": [
    "y=data.iloc[:,5:6].values\n",
    "y"
   ]
  },
  {
   "cell_type": "code",
   "execution_count": 13,
   "metadata": {},
   "outputs": [],
   "source": [
    "from sklearn.preprocessing import LabelEncoder"
   ]
  },
  {
   "cell_type": "code",
   "execution_count": 14,
   "metadata": {},
   "outputs": [],
   "source": [
    "lb=LabelEncoder()"
   ]
  },
  {
   "cell_type": "code",
   "execution_count": 15,
   "metadata": {},
   "outputs": [],
   "source": [
    "x[:,1]=lb.fit_transform(x[:,1])"
   ]
  },
  {
   "cell_type": "code",
   "execution_count": 16,
   "metadata": {},
   "outputs": [],
   "source": [
    "from sklearn.preprocessing import OneHotEncoder\n",
    "from sklearn.compose import ColumnTransformer"
   ]
  },
  {
   "cell_type": "code",
   "execution_count": 17,
   "metadata": {},
   "outputs": [],
   "source": [
    "ct=ColumnTransformer([(\"on\",OneHotEncoder(),[-1])],remainder='passthrough')"
   ]
  },
  {
   "cell_type": "code",
   "execution_count": 18,
   "metadata": {},
   "outputs": [
    {
     "data": {
      "text/plain": [
       "ColumnTransformer(n_jobs=None, remainder='passthrough', sparse_threshold=0.3,\n",
       "                  transformer_weights=None,\n",
       "                  transformers=[('on',\n",
       "                                 OneHotEncoder(categories='auto', drop=None,\n",
       "                                               dtype=<class 'numpy.float64'>,\n",
       "                                               handle_unknown='error',\n",
       "                                               sparse=True),\n",
       "                                 [2])],\n",
       "                  verbose=False)"
      ]
     },
     "execution_count": 18,
     "metadata": {},
     "output_type": "execute_result"
    }
   ],
   "source": [
    "ct"
   ]
  },
  {
   "cell_type": "code",
   "execution_count": 20,
   "metadata": {},
   "outputs": [
    {
     "ename": "ValueError",
     "evalue": "For a sparse output, all columns should be a numeric or convertible to a numeric.",
     "output_type": "error",
     "traceback": [
      "\u001b[1;31m---------------------------------------------------------------------------\u001b[0m",
      "\u001b[1;31mValueError\u001b[0m                                Traceback (most recent call last)",
      "\u001b[1;32m~\\anaconda3\\lib\\site-packages\\sklearn\\compose\\_column_transformer.py\u001b[0m in \u001b[0;36m_hstack\u001b[1;34m(self, Xs)\u001b[0m\n\u001b[0;32m    614\u001b[0m                                             force_all_finite=False)\n\u001b[1;32m--> 615\u001b[1;33m                                 for X in Xs]\n\u001b[0m\u001b[0;32m    616\u001b[0m             \u001b[1;32mexcept\u001b[0m \u001b[0mValueError\u001b[0m\u001b[1;33m:\u001b[0m\u001b[1;33m\u001b[0m\u001b[1;33m\u001b[0m\u001b[0m\n",
      "\u001b[1;32m~\\anaconda3\\lib\\site-packages\\sklearn\\compose\\_column_transformer.py\u001b[0m in \u001b[0;36m<listcomp>\u001b[1;34m(.0)\u001b[0m\n\u001b[0;32m    614\u001b[0m                                             force_all_finite=False)\n\u001b[1;32m--> 615\u001b[1;33m                                 for X in Xs]\n\u001b[0m\u001b[0;32m    616\u001b[0m             \u001b[1;32mexcept\u001b[0m \u001b[0mValueError\u001b[0m\u001b[1;33m:\u001b[0m\u001b[1;33m\u001b[0m\u001b[1;33m\u001b[0m\u001b[0m\n",
      "\u001b[1;32m~\\anaconda3\\lib\\site-packages\\sklearn\\utils\\validation.py\u001b[0m in \u001b[0;36mcheck_array\u001b[1;34m(array, accept_sparse, accept_large_sparse, dtype, order, copy, force_all_finite, ensure_2d, allow_nd, ensure_min_samples, ensure_min_features, warn_on_dtype, estimator)\u001b[0m\n\u001b[0;32m    530\u001b[0m                 \u001b[1;32melse\u001b[0m\u001b[1;33m:\u001b[0m\u001b[1;33m\u001b[0m\u001b[1;33m\u001b[0m\u001b[0m\n\u001b[1;32m--> 531\u001b[1;33m                     \u001b[0marray\u001b[0m \u001b[1;33m=\u001b[0m \u001b[0mnp\u001b[0m\u001b[1;33m.\u001b[0m\u001b[0masarray\u001b[0m\u001b[1;33m(\u001b[0m\u001b[0marray\u001b[0m\u001b[1;33m,\u001b[0m \u001b[0morder\u001b[0m\u001b[1;33m=\u001b[0m\u001b[0morder\u001b[0m\u001b[1;33m,\u001b[0m \u001b[0mdtype\u001b[0m\u001b[1;33m=\u001b[0m\u001b[0mdtype\u001b[0m\u001b[1;33m)\u001b[0m\u001b[1;33m\u001b[0m\u001b[1;33m\u001b[0m\u001b[0m\n\u001b[0m\u001b[0;32m    532\u001b[0m             \u001b[1;32mexcept\u001b[0m \u001b[0mComplexWarning\u001b[0m\u001b[1;33m:\u001b[0m\u001b[1;33m\u001b[0m\u001b[1;33m\u001b[0m\u001b[0m\n",
      "\u001b[1;32m~\\anaconda3\\lib\\site-packages\\numpy\\core\\_asarray.py\u001b[0m in \u001b[0;36masarray\u001b[1;34m(a, dtype, order)\u001b[0m\n\u001b[0;32m     84\u001b[0m     \"\"\"\n\u001b[1;32m---> 85\u001b[1;33m     \u001b[1;32mreturn\u001b[0m \u001b[0marray\u001b[0m\u001b[1;33m(\u001b[0m\u001b[0ma\u001b[0m\u001b[1;33m,\u001b[0m \u001b[0mdtype\u001b[0m\u001b[1;33m,\u001b[0m \u001b[0mcopy\u001b[0m\u001b[1;33m=\u001b[0m\u001b[1;32mFalse\u001b[0m\u001b[1;33m,\u001b[0m \u001b[0morder\u001b[0m\u001b[1;33m=\u001b[0m\u001b[0morder\u001b[0m\u001b[1;33m)\u001b[0m\u001b[1;33m\u001b[0m\u001b[1;33m\u001b[0m\u001b[0m\n\u001b[0m\u001b[0;32m     86\u001b[0m \u001b[1;33m\u001b[0m\u001b[0m\n",
      "\u001b[1;31mValueError\u001b[0m: could not convert string to float: 'Back Bay'",
      "\nDuring handling of the above exception, another exception occurred:\n",
      "\u001b[1;31mValueError\u001b[0m                                Traceback (most recent call last)",
      "\u001b[1;32m<ipython-input-20-20614c5e0fec>\u001b[0m in \u001b[0;36m<module>\u001b[1;34m\u001b[0m\n\u001b[1;32m----> 1\u001b[1;33m \u001b[0mx\u001b[0m\u001b[1;33m=\u001b[0m\u001b[0mct\u001b[0m\u001b[1;33m.\u001b[0m\u001b[0mfit_transform\u001b[0m\u001b[1;33m(\u001b[0m\u001b[0mx\u001b[0m\u001b[1;33m)\u001b[0m\u001b[1;33m\u001b[0m\u001b[1;33m\u001b[0m\u001b[0m\n\u001b[0m",
      "\u001b[1;32m~\\anaconda3\\lib\\site-packages\\sklearn\\compose\\_column_transformer.py\u001b[0m in \u001b[0;36mfit_transform\u001b[1;34m(self, X, y)\u001b[0m\n\u001b[0;32m    538\u001b[0m         \u001b[0mself\u001b[0m\u001b[1;33m.\u001b[0m\u001b[0m_validate_output\u001b[0m\u001b[1;33m(\u001b[0m\u001b[0mXs\u001b[0m\u001b[1;33m)\u001b[0m\u001b[1;33m\u001b[0m\u001b[1;33m\u001b[0m\u001b[0m\n\u001b[0;32m    539\u001b[0m \u001b[1;33m\u001b[0m\u001b[0m\n\u001b[1;32m--> 540\u001b[1;33m         \u001b[1;32mreturn\u001b[0m \u001b[0mself\u001b[0m\u001b[1;33m.\u001b[0m\u001b[0m_hstack\u001b[0m\u001b[1;33m(\u001b[0m\u001b[0mlist\u001b[0m\u001b[1;33m(\u001b[0m\u001b[0mXs\u001b[0m\u001b[1;33m)\u001b[0m\u001b[1;33m)\u001b[0m\u001b[1;33m\u001b[0m\u001b[1;33m\u001b[0m\u001b[0m\n\u001b[0m\u001b[0;32m    541\u001b[0m \u001b[1;33m\u001b[0m\u001b[0m\n\u001b[0;32m    542\u001b[0m     \u001b[1;32mdef\u001b[0m \u001b[0mtransform\u001b[0m\u001b[1;33m(\u001b[0m\u001b[0mself\u001b[0m\u001b[1;33m,\u001b[0m \u001b[0mX\u001b[0m\u001b[1;33m)\u001b[0m\u001b[1;33m:\u001b[0m\u001b[1;33m\u001b[0m\u001b[1;33m\u001b[0m\u001b[0m\n",
      "\u001b[1;32m~\\anaconda3\\lib\\site-packages\\sklearn\\compose\\_column_transformer.py\u001b[0m in \u001b[0;36m_hstack\u001b[1;34m(self, Xs)\u001b[0m\n\u001b[0;32m    615\u001b[0m                                 for X in Xs]\n\u001b[0;32m    616\u001b[0m             \u001b[1;32mexcept\u001b[0m \u001b[0mValueError\u001b[0m\u001b[1;33m:\u001b[0m\u001b[1;33m\u001b[0m\u001b[1;33m\u001b[0m\u001b[0m\n\u001b[1;32m--> 617\u001b[1;33m                 raise ValueError(\"For a sparse output, all columns should\"\n\u001b[0m\u001b[0;32m    618\u001b[0m                                  \" be a numeric or convertible to a numeric.\")\n\u001b[0;32m    619\u001b[0m \u001b[1;33m\u001b[0m\u001b[0m\n",
      "\u001b[1;31mValueError\u001b[0m: For a sparse output, all columns should be a numeric or convertible to a numeric."
     ]
    }
   ],
   "source": [
    "x=ct.fit_transform(x)\n"
   ]
  },
  {
   "cell_type": "code",
   "execution_count": 20,
   "metadata": {},
   "outputs": [],
   "source": [
    "x=x[:,1:]"
   ]
  },
  {
   "cell_type": "code",
   "execution_count": 26,
   "metadata": {},
   "outputs": [
    {
     "data": {
      "text/plain": [
       "array([[0.0, 0.0, 0.0, ..., 0.0, 2.49, 1],\n",
       "       [0.0, 1.0, 0.0, ..., 0.0, 2.49, 1],\n",
       "       [0.0, 0.0, 0.0, ..., 0.0, 2.49, 1],\n",
       "       ...,\n",
       "       [0.0, 1.0, 0.0, ..., 0.0, 1.3, 1],\n",
       "       [1.0, 0.0, 0.0, ..., 0.0, 1.81, 1],\n",
       "       [1.0, 0.0, 0.0, ..., 0.0, 1.3, 1]], dtype=object)"
      ]
     },
     "execution_count": 26,
     "metadata": {},
     "output_type": "execute_result"
    }
   ],
   "source": [
    "ct=ColumnTransformer([(\"on\",OneHotEncoder(),[-1])],remainder='passthrough')\n",
    "x=ct.fit_transform(x)\n",
    "x\n",
    "x=x[:,1:]"
   ]
  },
  {
   "cell_type": "code",
   "execution_count": null,
   "metadata": {},
   "outputs": [],
   "source": [
    "ct=ColumnTransformer([(\"on\",OneHotEncoder(),[-1])],remainder='passthrough')\n",
    "x=ct.fit_transform(x)\n",
    "x"
   ]
  },
  {
   "cell_type": "code",
   "execution_count": 27,
   "metadata": {},
   "outputs": [],
   "source": [
    "x=x[:,1:]"
   ]
  },
  {
   "cell_type": "code",
   "execution_count": 28,
   "metadata": {},
   "outputs": [
    {
     "data": {
      "text/plain": [
       "(100, 29)"
      ]
     },
     "execution_count": 28,
     "metadata": {},
     "output_type": "execute_result"
    }
   ],
   "source": [
    "x.shape"
   ]
  },
  {
   "cell_type": "code",
   "execution_count": 29,
   "metadata": {},
   "outputs": [
    {
     "data": {
      "text/plain": [
       "North End             17\n",
       "Fenway                14\n",
       "West End              14\n",
       "Theatre District      13\n",
       "Back Bay              12\n",
       "North Station         11\n",
       "South Station          7\n",
       "Financial District     6\n",
       "Beacon Hill            6\n",
       "Name: source, dtype: Int64"
      ]
     },
     "execution_count": 29,
     "metadata": {},
     "output_type": "execute_result"
    }
   ],
   "source": [
    "data['source'].value_counts()"
   ]
  },
  {
   "cell_type": "code",
   "execution_count": 30,
   "metadata": {},
   "outputs": [
    {
     "data": {
      "text/plain": [
       "Taxi            11\n",
       "Black           10\n",
       "Black SUV       10\n",
       "UberPool         9\n",
       "UberXL           9\n",
       "WAV              9\n",
       "UberX            8\n",
       "Lux Black XL     6\n",
       "Lux              6\n",
       "Lyft XL          6\n",
       "Lux Black        6\n",
       "Shared           5\n",
       "Lyft             5\n",
       "Name: name, dtype: Int64"
      ]
     },
     "execution_count": 30,
     "metadata": {},
     "output_type": "execute_result"
    }
   ],
   "source": [
    "data['name'].value_counts()"
   ]
  },
  {
   "cell_type": "code",
   "execution_count": 31,
   "metadata": {},
   "outputs": [],
   "source": [
    "from sklearn.model_selection import train_test_split\n",
    "x_train,x_test,y_train,y_test=train_test_split(x,y,test_size=0.2,random_state=0)"
   ]
  },
  {
   "cell_type": "code",
   "execution_count": 32,
   "metadata": {},
   "outputs": [],
   "source": [
    "from sklearn.linear_model import LinearRegression\n",
    "mlr=LinearRegression()"
   ]
  },
  {
   "cell_type": "code",
   "execution_count": 33,
   "metadata": {},
   "outputs": [
    {
     "data": {
      "text/plain": [
       "LinearRegression(copy_X=True, fit_intercept=True, n_jobs=None, normalize=False)"
      ]
     },
     "execution_count": 33,
     "metadata": {},
     "output_type": "execute_result"
    }
   ],
   "source": [
    "mlr.fit(x_train,y_train)"
   ]
  },
  {
   "cell_type": "code",
   "execution_count": 34,
   "metadata": {},
   "outputs": [
    {
     "data": {
      "text/plain": [
       "array([[0.0, 0.0, 0.0, ..., 0.0, 2.49, 1],\n",
       "       [1.0, 0.0, 0.0, ..., 0.0, 2.49, 1],\n",
       "       [0.0, 0.0, 0.0, ..., 0.0, 2.49, 1],\n",
       "       ...,\n",
       "       [1.0, 0.0, 0.0, ..., 0.0, 1.3, 1],\n",
       "       [0.0, 0.0, 0.0, ..., 0.0, 1.81, 1],\n",
       "       [0.0, 0.0, 0.0, ..., 0.0, 1.3, 1]], dtype=object)"
      ]
     },
     "execution_count": 34,
     "metadata": {},
     "output_type": "execute_result"
    }
   ],
   "source": [
    "x"
   ]
  },
  {
   "cell_type": "code",
   "execution_count": 35,
   "metadata": {},
   "outputs": [
    {
     "data": {
      "text/plain": [
       "array([[12.25533155],\n",
       "       [16.72169034],\n",
       "       [ 9.83010299],\n",
       "       [13.90996472],\n",
       "       [12.60234899],\n",
       "       [31.12781386],\n",
       "       [ 6.32404313],\n",
       "       [ 5.5159396 ],\n",
       "       [ 7.13878235],\n",
       "       [16.58016209],\n",
       "       [ 7.54751487],\n",
       "       [12.39408079],\n",
       "       [25.60234899],\n",
       "       [ 5.9153106 ],\n",
       "       [13.14371566],\n",
       "       [19.02651392],\n",
       "       [13.08815803],\n",
       "       [25.07360993],\n",
       "       [ 9.7548247 ],\n",
       "       [11.63525603]])"
      ]
     },
     "execution_count": 35,
     "metadata": {},
     "output_type": "execute_result"
    }
   ],
   "source": [
    "y_pred=mlr.predict(x_test)\n",
    "y_pred"
   ]
  },
  {
   "cell_type": "code",
   "execution_count": 36,
   "metadata": {},
   "outputs": [
    {
     "data": {
      "text/plain": [
       "array([[11.        ],\n",
       "       [16.73595506],\n",
       "       [11.        ],\n",
       "       [16.73595506],\n",
       "       [13.5       ],\n",
       "       [29.5       ],\n",
       "       [ 8.        ],\n",
       "       [ 7.        ],\n",
       "       [ 8.5       ],\n",
       "       [15.        ],\n",
       "       [ 9.5       ],\n",
       "       [16.73595506],\n",
       "       [27.5       ],\n",
       "       [ 8.        ],\n",
       "       [12.        ],\n",
       "       [16.73595506],\n",
       "       [14.        ],\n",
       "       [26.5       ],\n",
       "       [10.5       ],\n",
       "       [ 8.5       ]])"
      ]
     },
     "execution_count": 36,
     "metadata": {},
     "output_type": "execute_result"
    }
   ],
   "source": [
    "y_test"
   ]
  },
  {
   "cell_type": "code",
   "execution_count": 37,
   "metadata": {},
   "outputs": [
    {
     "data": {
      "text/plain": [
       "0.9120784208367919"
      ]
     },
     "execution_count": 37,
     "metadata": {},
     "output_type": "execute_result"
    }
   ],
   "source": [
    "from sklearn.metrics import r2_score\n",
    "r2_score(y_test,y_pred)"
   ]
  },
  {
   "cell_type": "code",
   "execution_count": 36,
   "metadata": {},
   "outputs": [],
   "source": [
    "from sklearn.naive_bayes import GaussianNB\n",
    "from sklearn.preprocessing import StandardScaler\n",
    "from sklearn.pipeline import Pipeline"
   ]
  },
  {
   "cell_type": "code",
   "execution_count": 38,
   "metadata": {},
   "outputs": [
    {
     "data": {
      "text/plain": [
       "array([10.        , 16.73595506,  9.5       , 16.73595506, 13.5       ,\n",
       "       27.        , 11.        ,  7.        ,  9.5       , 14.        ,\n",
       "       11.        , 17.5       , 27.5       ,  9.5       , 10.5       ,\n",
       "       16.73595506, 12.        , 27.        , 12.        , 11.        ])"
      ]
     },
     "execution_count": 38,
     "metadata": {},
     "output_type": "execute_result"
    }
   ],
   "source": [
    "from sklearn.linear_model import LinearRegression\n",
    "from sklearn.tree import DecisionTreeRegressor\n",
    "lr =DecisionTreeRegressor(random_state=0)\n",
    "\n",
    "#training model in training set\n",
    "lr.fit(x_train, y_train)\n",
    "\n",
    "# making predection using the test set\n",
    "y_pred = lr.predict(x_test)\n",
    "y_pred\n"
   ]
  },
  {
   "cell_type": "code",
   "execution_count": 39,
   "metadata": {},
   "outputs": [
    {
     "data": {
      "text/plain": [
       "0.9518882338636767"
      ]
     },
     "execution_count": 39,
     "metadata": {},
     "output_type": "execute_result"
    }
   ],
   "source": [
    "from sklearn.metrics import r2_score\n",
    "r2_score(y_test,y_pred)"
   ]
  },
  {
   "cell_type": "code",
   "execution_count": 40,
   "metadata": {},
   "outputs": [],
   "source": [
    "from sklearn.model_selection import train_test_split\n",
    "x_train,x_test,y_train,y_test=train_test_split(x,y,test_size=0.2,random_state=0)"
   ]
  },
  {
   "cell_type": "code",
   "execution_count": 41,
   "metadata": {},
   "outputs": [
    {
     "data": {
      "text/plain": [
       "DecisionTreeRegressor(ccp_alpha=0.0, criterion='mse', max_depth=None,\n",
       "                      max_features=None, max_leaf_nodes=None,\n",
       "                      min_impurity_decrease=0.0, min_impurity_split=None,\n",
       "                      min_samples_leaf=1, min_samples_split=2,\n",
       "                      min_weight_fraction_leaf=0.0, presort='deprecated',\n",
       "                      random_state=0, splitter='best')"
      ]
     },
     "execution_count": 41,
     "metadata": {},
     "output_type": "execute_result"
    }
   ],
   "source": [
    "from sklearn.tree import DecisionTreeRegressor\n",
    "dt= DecisionTreeRegressor(criterion='mse',random_state=0)\n",
    "dt.fit(x_train,y_train)"
   ]
  },
  {
   "cell_type": "code",
   "execution_count": 42,
   "metadata": {},
   "outputs": [
    {
     "data": {
      "text/plain": [
       "array([10.        , 16.73595506,  9.5       , 16.73595506, 13.5       ,\n",
       "       27.        , 11.        ,  7.        ,  9.5       , 14.        ,\n",
       "       11.        , 17.5       , 27.5       ,  9.5       , 10.5       ,\n",
       "       16.73595506, 12.        , 27.        , 12.        , 11.        ])"
      ]
     },
     "execution_count": 42,
     "metadata": {},
     "output_type": "execute_result"
    }
   ],
   "source": [
    "y_pred=dt.predict(x_test)\n",
    "y_pred"
   ]
  },
  {
   "cell_type": "code",
   "execution_count": 43,
   "metadata": {},
   "outputs": [
    {
     "data": {
      "text/plain": [
       "0.9518882338636767"
      ]
     },
     "execution_count": 43,
     "metadata": {},
     "output_type": "execute_result"
    }
   ],
   "source": [
    "from sklearn.metrics import r2_score #Accuracy ~89%\n",
    "r2_score(y_test,y_pred)"
   ]
  },
  {
   "cell_type": "code",
   "execution_count": 44,
   "metadata": {},
   "outputs": [
    {
     "name": "stderr",
     "output_type": "stream",
     "text": [
      "C:\\Users\\AKASH\\anaconda3\\lib\\site-packages\\ipykernel_launcher.py:3: DataConversionWarning: A column-vector y was passed when a 1d array was expected. Please change the shape of y to (n_samples,), for example using ravel().\n",
      "  This is separate from the ipykernel package so we can avoid doing imports until\n"
     ]
    },
    {
     "data": {
      "text/plain": [
       "RandomForestRegressor(bootstrap=True, ccp_alpha=0.0, criterion='mse',\n",
       "                      max_depth=None, max_features='auto', max_leaf_nodes=None,\n",
       "                      max_samples=None, min_impurity_decrease=0.0,\n",
       "                      min_impurity_split=None, min_samples_leaf=1,\n",
       "                      min_samples_split=2, min_weight_fraction_leaf=0.0,\n",
       "                      n_estimators=100, n_jobs=None, oob_score=False,\n",
       "                      random_state=0, verbose=0, warm_start=False)"
      ]
     },
     "execution_count": 44,
     "metadata": {},
     "output_type": "execute_result"
    }
   ],
   "source": [
    "from sklearn.ensemble import RandomForestRegressor\n",
    "rf=RandomForestRegressor(n_estimators=100,random_state=0)\n",
    "rf.fit(x_train,y_train)"
   ]
  },
  {
   "cell_type": "code",
   "execution_count": 45,
   "metadata": {},
   "outputs": [],
   "source": [
    "y_pred=rf.predict(x_test)"
   ]
  },
  {
   "cell_type": "code",
   "execution_count": 46,
   "metadata": {},
   "outputs": [
    {
     "data": {
      "text/plain": [
       "0.8803990189009568"
      ]
     },
     "execution_count": 46,
     "metadata": {},
     "output_type": "execute_result"
    }
   ],
   "source": [
    "from sklearn.metrics import r2_score # Accuracy~93% \n",
    "r2_score(y_test,y_pred)"
   ]
  },
  {
   "cell_type": "code",
   "execution_count": 47,
   "metadata": {},
   "outputs": [
    {
     "data": {
      "image/png": "[encoded data removed]",
      "text/plain": [
       "<Figure size 432x288 with 2 Axes>"
      ]
     },
     "metadata": {
      "needs_background": "light"
     },
     "output_type": "display_data"
    }
   ],
   "source": [
    "import seaborn as sb\n",
    "heat_map = sb.heatmap(data.corr())\n",
    "#data.corr()"
   ]
  },
  {
   "cell_type": "code",
   "execution_count": 21,
   "metadata": {},
   "outputs": [
    {
     "data": {
      "text/plain": [
       "array([2.49, 1, 'UberPool', 'Back Bay', 'South Station'], dtype=object)"
      ]
     },
     "execution_count": 21,
     "metadata": {},
     "output_type": "execute_result"
    }
   ],
   "source": []
  },
  {
   "cell_type": "code",
   "execution_count": null,
   "metadata": {},
   "outputs": [],
   "source": []
  }
 ],
 "metadata": {
  "kernelspec": {
   "display_name": "Python 3",
   "language": "python",
   "name": "python3"
  },
  "language_info": {
   "codemirror_mode": {
    "name": "ipython",
    "version": 3
   },
   "file_extension": ".py",
   "mimetype": "text/x-python",
   "name": "python",
   "nbconvert_exporter": "python",
   "pygments_lexer": "ipython3",
   "version": "3.7.6"
  }
 },
 "nbformat": 4,
 "nbformat_minor": 4
}
